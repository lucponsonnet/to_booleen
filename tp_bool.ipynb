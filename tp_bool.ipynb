{
 "cells": [
  {
   "cell_type": "markdown",
   "metadata": {},
   "source": [
    "# Révisions sur les booléens\n",
    "## 1- Le type booléen, et ses opérateurs de comparaison\n",
    "Une expression booléenne peut avoir deux valeurs, soit *True*, soit *False*.\n",
    "\n",
    "Exécutez les *cellules Code* suivantes (sélectionner la \"cellule Code\", puis cliquer sur *Exécuter* ou utiliser le raccourci clavier *CTRL + Entrée*) pour connaître les valeurs des conditions booléennes suivantes :"
   ]
  },
  {
   "cell_type": "code",
   "execution_count": null,
   "metadata": {},
   "outputs": [],
   "source": [
    "1<3"
   ]
  },
  {
   "cell_type": "code",
   "execution_count": null,
   "metadata": {},
   "outputs": [],
   "source": [
    "5<=3"
   ]
  },
  {
   "cell_type": "code",
   "execution_count": null,
   "metadata": {},
   "outputs": [],
   "source": [
    "1!=5"
   ]
  },
  {
   "cell_type": "code",
   "execution_count": null,
   "metadata": {},
   "outputs": [],
   "source": [
    "1+1==5-3"
   ]
  },
  {
   "cell_type": "markdown",
   "metadata": {},
   "source": [
    "On  retiendra la liste des **opérateurs de comparaison** suivante :\n",
    "* strictement inférieur se note <\n",
    "* inférieur ou égal se note <=\n",
    "* strictement supérieur se note >\n",
    "* supérieur ou égal se note >=\n",
    "* égal à se note ==\n",
    "* différent de se note !=\n",
    "\n",
    " <span style='color:green'>**Remarques**</span> :\n",
    " \n",
    "* $a=1$ : signifie que l'on affecte à la variable $a$ la valeur de $1$.\n",
    " \n",
    "* $a==1$ : signifie que si le contenu de $a$ est égal à $1$ alors le booléen $(a==1)$ possède la valeur *True* sinon il possède la valeur *False*.\n",
    "\n",
    "<span style='color:blue'>**Application 1**</span> :\n",
    "\n",
    "On sait que $15=2\\times7+1$ avec $0\\le1<2$. On dit que $1$ est le **reste** et $7$ le **quotient** de la **division euclidienne** de $15$ par $2$.\n",
    "\n",
    "En langage Python :\n",
    "* 15%2 est égal au reste de la division euclidienne de $15$ par $2$.\n",
    "* 15//2 est égal au quotient de la division euclidienne de $15$ par $2$.\n",
    "\n",
    "En exécutant les deux *cellules Code* suivantes, le vérifier."
   ]
  },
  {
   "cell_type": "code",
   "execution_count": null,
   "metadata": {},
   "outputs": [],
   "source": [
    "15//2"
   ]
  },
  {
   "cell_type": "code",
   "execution_count": null,
   "metadata": {},
   "outputs": [],
   "source": [
    "15%2"
   ]
  },
  {
   "cell_type": "markdown",
   "metadata": {},
   "source": [
    "A l'aide de l'opérateur de comparaison $==$ et de %, écrire dans la *cellule Code* qui suit une condition booléenne qui prouve que l'entier 14 est pair."
   ]
  },
  {
   "cell_type": "code",
   "execution_count": null,
   "metadata": {},
   "outputs": [],
   "source": []
  },
  {
   "cell_type": "markdown",
   "metadata": {},
   "source": [
    "A l'aide de l'opérateur de comparaison $==$ et de %, écrire dans la *cellule Code* qui suit une condition booléenne qui prouve que l'entier 18 n'est pas divisible par 7."
   ]
  },
  {
   "cell_type": "code",
   "execution_count": null,
   "metadata": {},
   "outputs": [],
   "source": []
  },
  {
   "cell_type": "markdown",
   "metadata": {},
   "source": [
    "## 2- Les opérateurs booléens : and, or et not\n",
    "Exécuter chacune des *cellules Code* suivantes :"
   ]
  },
  {
   "cell_type": "code",
   "execution_count": null,
   "metadata": {},
   "outputs": [],
   "source": [
    "(5<3) and (3!=2)"
   ]
  },
  {
   "cell_type": "code",
   "execution_count": null,
   "metadata": {},
   "outputs": [],
   "source": [
    "(15//2==1) and (15%2==0)"
   ]
  },
  {
   "cell_type": "code",
   "execution_count": null,
   "metadata": {},
   "outputs": [],
   "source": [
    "x=1\n",
    "(x<2) or (x==3)"
   ]
  },
  {
   "cell_type": "code",
   "execution_count": null,
   "metadata": {},
   "outputs": [],
   "source": [
    "not(2==4)"
   ]
  },
  {
   "cell_type": "markdown",
   "metadata": {},
   "source": [
    " <span style='color:green'>**Remarques**</span> :\n",
    " *  *bool1 and bool2* a pour valeur *True* lorsque les booléens *bool1* et *bool2* ont tous les deux pour valeurs *True*.\n",
    " * *bool1 or bool2* a pour valeur *True* lorsqu'un des booléens *bool1* ou *bool2* a pour valeur *True*.\n",
    " * *not(True)* a pour valeur *False*. Et *not(False)* a pour valeur *True*.\n",
    "\n",
    "<span style='color:blue'>**Application 2**</span> :\n",
    "\n",
    "Exécuter la *cellule Code* suivante :"
   ]
  },
  {
   "cell_type": "code",
   "execution_count": null,
   "metadata": {},
   "outputs": [],
   "source": [
    "x=10\n",
    "12<x<14"
   ]
  },
  {
   "cell_type": "markdown",
   "metadata": {},
   "source": [
    "Traduire la conditon booléenne $(12<x<14)$ à l'aide de l'opérateur *and* :"
   ]
  },
  {
   "cell_type": "code",
   "execution_count": null,
   "metadata": {},
   "outputs": [],
   "source": [
    "x=10\n",
    "..."
   ]
  },
  {
   "cell_type": "markdown",
   "metadata": {},
   "source": [
    "Quelle est la valeur de vérité du booléen suivant ? : \n",
    "\n",
    "(17//3==1) or not(15%2!=0)\n",
    "\n",
    "Vérifier votre résultat en utilisant la *cellule Code* suivante :"
   ]
  },
  {
   "cell_type": "code",
   "execution_count": null,
   "metadata": {},
   "outputs": [],
   "source": []
  },
  {
   "cell_type": "markdown",
   "metadata": {},
   "source": [
    "## 3- Exercices\n",
    "\n",
    "<span style='color:blue'>**Exercice 1**</span> :\n",
    "\n",
    "Soit $a=$*True* et $b=$*False*, à quoi est égal le booléen : (not($a$) and $b$) or not($a$) ?\n",
    "Le vérifier avec la *cellule Code* suivante :\n"
   ]
  },
  {
   "cell_type": "code",
   "execution_count": null,
   "metadata": {},
   "outputs": [],
   "source": [
    "a=True\n",
    "b=False\n"
   ]
  },
  {
   "cell_type": "markdown",
   "metadata": {},
   "source": [
    "<span style='color:blue'>**Exercice 2**</span> :\n",
    "\n",
    "Compléter le script suivant pour qu'il signale si une année *an* est bissextile ou pas.\n",
    "\n",
    "Voici ce que dit Wikipédia sur les années bissextiles :\n",
    "\n",
    "\"*Depuis l'ajustement du calendrier grégorien, l'année n’est bissextile (elle aura 366 jours) que dans l’un des deux cas suivants* :\n",
    "\n",
    "* *si l'année est divisible par 4 et non divisible par 100* ;\n",
    "* *si l'année est divisible par 400 (« divisible » signifie que la division donne un nombre entier, sans reste)*.\n",
    "\n",
    "*Sinon, l'année n'est pas bissextile : elle a la durée habituelle de 365 jours (elle est dite année commune)*\".\n",
    "\n",
    "[Lien Wikipédia](https://fr.wikipedia.org/wiki/Ann%C3%A9e_bissextile)"
   ]
  },
  {
   "cell_type": "code",
   "execution_count": null,
   "metadata": {},
   "outputs": [],
   "source": [
    "def bissextile(an):\n",
    "    cas1=(...) and (...)\n",
    "    cas2=(...)\n",
    "    return (cas1 or cas2)\n",
    "   \n",
    "print(bissextile(2020))\n",
    "print(bissextile(2021))"
   ]
  }
 ],
 "metadata": {
  "kernelspec": {
   "display_name": "Python 3",
   "language": "python",
   "name": "python3"
  },
  "language_info": {
   "codemirror_mode": {
    "name": "ipython",
    "version": 3
   },
   "file_extension": ".py",
   "mimetype": "text/x-python",
   "name": "python",
   "nbconvert_exporter": "python",
   "pygments_lexer": "ipython3",
   "version": "3.8.5"
  }
 },
 "nbformat": 4,
 "nbformat_minor": 4
}
